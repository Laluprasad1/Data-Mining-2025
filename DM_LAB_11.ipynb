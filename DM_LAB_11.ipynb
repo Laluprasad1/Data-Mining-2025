{
  "nbformat": 4,
  "nbformat_minor": 0,
  "metadata": {
    "colab": {
      "provenance": [],
      "authorship_tag": "ABX9TyOKA3VPahNBJV7dZjYuRuu0",
      "include_colab_link": true
    },
    "kernelspec": {
      "name": "python3",
      "display_name": "Python 3"
    },
    "language_info": {
      "name": "python"
    }
  },
  "cells": [
    {
      "cell_type": "markdown",
      "metadata": {
        "id": "view-in-github",
        "colab_type": "text"
      },
      "source": [
        "<a href=\"https://colab.research.google.com/github/Laluprasad1/Data-Mining-2025/blob/main/DM_LAB_11.ipynb\" target=\"_parent\"><img src=\"https://colab.research.google.com/assets/colab-badge.svg\" alt=\"Open In Colab\"/></a>"
      ]
    },
    {
      "cell_type": "markdown",
      "source": [
        "##**Week-08**"
      ],
      "metadata": {
        "id": "rRT1LdZ2_Tu8"
      }
    },
    {
      "cell_type": "markdown",
      "source": [
        "##Multiple Linear Regression"
      ],
      "metadata": {
        "id": "67UDBFvs_iX5"
      }
    },
    {
      "cell_type": "code",
      "source": [
        "import numpy as np\n",
        "import pandas as pd\n",
        "import matplotlib.pyplot as plt\n",
        "from sklearn.model_selection import train_test_split\n",
        "from sklearn.linear_model import LinearRegression\n",
        "from sklearn.metrics import mean_squared_error, r2_score"
      ],
      "metadata": {
        "id": "nl5A4MM7_TGF"
      },
      "execution_count": 3,
      "outputs": []
    },
    {
      "cell_type": "code",
      "source": [
        "data = {\n",
        "'Feature1': [1, 2, 3, 4, 5, 6, 7, 8, 9, 10],\n",
        "'Feature2': [2, 3, 4, 5, 6, 7, 8, 9, 10, 11],\n",
        "'Feature3': [3, 4, 5, 6, 7, 8, 9, 10, 11, 12],\n",
        "'Target': [5, 7, 9, 11, 13, 15, 17, 19, 21, 23]\n",
        "}\n",
        "# Convert to DataFrame\n",
        "df = pd.DataFrame(data)\n",
        "# Define independent (X) and dependent (y) variables\n",
        "X = df[['Feature1', 'Feature2', 'Feature3']]\n",
        "y = df['Target']\n",
        "# Split dataset into training and testing sets (80% train, 20% test)\n",
        "X_train, X_test, y_train, y_test = train_test_split(X, y, test_size=0.2, random_state=42)\n",
        "# Initialize and train the regression model\n",
        "model = LinearRegression()\n",
        "model.fit(X_train, y_train)\n",
        "# Make predictions\n",
        "y_pred = model.predict(X_test)\n",
        "# Print model coefficients and intercept\n",
        "print(f\"Coefficients: {model.coef_}\")\n",
        "print(f\"Intercept: {model.intercept_}\")"
      ],
      "metadata": {
        "colab": {
          "base_uri": "https://localhost:8080/"
        },
        "id": "g11Em3lf_swS",
        "outputId": "8179b4b0-1a3d-4db3-9c90-812a99d9f2f0"
      },
      "execution_count": 4,
      "outputs": [
        {
          "output_type": "stream",
          "name": "stdout",
          "text": [
            "Coefficients: [0.66666667 0.66666667 0.66666667]\n",
            "Intercept: 0.9999999999999982\n"
          ]
        }
      ]
    },
    {
      "cell_type": "code",
      "source": [
        "mse = mean_squared_error(y_test, y_pred)\n",
        "r2 = r2_score(y_test, y_pred)\n",
        "print(f\"Mean Squared Error: {mse}\")\n",
        "print(f\"R-squared Score: {r2}\")"
      ],
      "metadata": {
        "colab": {
          "base_uri": "https://localhost:8080/"
        },
        "id": "8VRIYsVs_zoz",
        "outputId": "170b47f8-27a4-4b11-e398-360aeb466b53"
      },
      "execution_count": 5,
      "outputs": [
        {
          "output_type": "stream",
          "name": "stdout",
          "text": [
            "Mean Squared Error: 1.5777218104420236e-30\n",
            "R-squared Score: 1.0\n"
          ]
        }
      ]
    }
  ]
}